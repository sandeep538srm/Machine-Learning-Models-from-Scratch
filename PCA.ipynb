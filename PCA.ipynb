{
 "cells": [
  {
   "cell_type": "markdown",
   "id": "a4e92cfe",
   "metadata": {},
   "source": [
    "# AP21110011538 || YARAM SANDEEP REDDY"
   ]
  },
  {
   "cell_type": "markdown",
   "id": "204f5271",
   "metadata": {},
   "source": [
    "###### Consider the two dimensional data matrix [(2, 1), (3, 4), (5, 0), (7, 6), (9, 2)].Implement principal component analysis. Use this to obtain the feature in transformed2D feature space. Plot the scatter plot of data points in both the original as well as transformed domain."
   ]
  },
  {
   "cell_type": "code",
   "execution_count": 3,
   "id": "77324249",
   "metadata": {},
   "outputs": [],
   "source": [
    "import numpy as np\n",
    "import pandas as pd"
   ]
  },
  {
   "cell_type": "code",
   "execution_count": 4,
   "id": "12afbf36",
   "metadata": {},
   "outputs": [],
   "source": [
    "#x=[50,100,150,350,250,600,900]\n",
    "#y=[500,800,1000,1400,1200,1800,1900]\n",
    "n=5\n",
    "x=[5,4,6,2,7]\n",
    "y=[38,99,24,29,16]"
   ]
  },
  {
   "cell_type": "code",
   "execution_count": 5,
   "id": "5167c5ec",
   "metadata": {},
   "outputs": [],
   "source": [
    "y=np.array(y)\n",
    "x=np.array(x)"
   ]
  },
  {
   "cell_type": "code",
   "execution_count": 6,
   "id": "4aa0db24",
   "metadata": {},
   "outputs": [],
   "source": [
    "x_s=np.sum(x)\n",
    "y_s=np.sum(y)"
   ]
  },
  {
   "cell_type": "code",
   "execution_count": 7,
   "id": "cbceb8c5",
   "metadata": {},
   "outputs": [
    {
     "name": "stdout",
     "output_type": "stream",
     "text": [
      "X mean is  4.8\n",
      "Y mean is  41.2\n"
     ]
    }
   ],
   "source": [
    "x_m=x_s/n\n",
    "y_m=y_s/n\n",
    "print(\"X mean is \",x_m)\n",
    "print(\"Y mean is \",y_m)"
   ]
  },
  {
   "cell_type": "code",
   "execution_count": 8,
   "id": "ad12f155",
   "metadata": {
    "scrolled": true
   },
   "outputs": [
    {
     "name": "stdout",
     "output_type": "stream",
     "text": [
      "x-x_m: [ 0.2 -0.8  1.2 -2.8  2.2]\n",
      "y-y_m: [ -3.2  57.8 -17.2 -12.2 -25.2]\n"
     ]
    }
   ],
   "source": [
    "x_x_m=(x-x_m)\n",
    "y_y_m=(y-y_m)\n",
    "print(\"x-x_m:\",x_x_m)\n",
    "print(\"y-y_m:\",y_y_m)   \n",
    "x_x_m=np.array(x-x_m)\n",
    "y_y_m=np.array(y-y_m)"
   ]
  },
  {
   "cell_type": "code",
   "execution_count": 9,
   "id": "82d2e181",
   "metadata": {},
   "outputs": [],
   "source": [
    "def covariance(X, Y):    \n",
    "    mean_X = np.mean(X)\n",
    "    mean_Y = np.mean(Y)\n",
    "    cov = sum((X[i]-mean_X)*(Y[i]-mean_Y) for i in range(n))/n\n",
    "    return cov"
   ]
  },
  {
   "cell_type": "code",
   "execution_count": 10,
   "id": "436079da",
   "metadata": {},
   "outputs": [],
   "source": [
    "co_variance_matrix=[[0,0],[0,0]]"
   ]
  },
  {
   "cell_type": "code",
   "execution_count": 11,
   "id": "7d39d06e",
   "metadata": {},
   "outputs": [],
   "source": [
    "for i in range(2):\n",
    "    for j in range(2):\n",
    "        if i==j:\n",
    "            if i==0:\n",
    "                co_variance_matrix[i][j]=covariance(x_x_m,x_x_m)\n",
    "            else:\n",
    "                co_variance_matrix[i][j] = covariance(y_y_m, y_y_m)    \n",
    "        elif j > i:\n",
    "            co_variance_matrix[i][j]=covariance(x_x_m,y_y_m)\n",
    "            co_variance_matrix[j][i]=co_variance_matrix[i][j]"
   ]
  },
  {
   "cell_type": "code",
   "execution_count": 12,
   "id": "428ae321",
   "metadata": {},
   "outputs": [
    {
     "name": "stdout",
     "output_type": "stream",
     "text": [
      "co_variance_matrix\n"
     ]
    },
    {
     "data": {
      "text/plain": [
       "[[2.96, -17.76], [-17.76, 886.1599999999999]]"
      ]
     },
     "execution_count": 12,
     "metadata": {},
     "output_type": "execute_result"
    }
   ],
   "source": [
    "print(\"co_variance_matrix\")\n",
    "co_variance_matrix"
   ]
  },
  {
   "cell_type": "code",
   "execution_count": 13,
   "id": "ea812d8a",
   "metadata": {},
   "outputs": [
    {
     "name": "stdout",
     "output_type": "stream",
     "text": [
      "[[  2.96 -17.76]\n",
      " [-17.76 886.16]]\n"
     ]
    }
   ],
   "source": [
    "data = np.array([x_x_m,y_y_m])\n",
    "cov_matrix = np.cov(data, bias=True)\n",
    "print(cov_matrix)"
   ]
  },
  {
   "cell_type": "code",
   "execution_count": 14,
   "id": "8ea9dd4c",
   "metadata": {},
   "outputs": [],
   "source": [
    "eigenvalues,eigenvectors=np.linalg.eig(co_variance_matrix)\n",
    "sorted_indices=np.argsort(eigenvalues)[::-1]\n",
    "sorted_eigenvalues=eigenvalues[sorted_indices]\n",
    "sorted_eigenvectors=eigenvectors[:,sorted_indices]"
   ]
  },
  {
   "cell_type": "code",
   "execution_count": 15,
   "id": "38ba1970",
   "metadata": {},
   "outputs": [
    {
     "name": "stdout",
     "output_type": "stream",
     "text": [
      "Sorted Eigenvalues: [886.51698614   2.60301386]\n",
      "\n",
      "Corresponding Sorted Eigenvectors:\n"
     ]
    },
    {
     "data": {
      "text/plain": [
       "array([[ 0.02009651, -0.99979804],\n",
       "       [-0.99979804, -0.02009651]])"
      ]
     },
     "execution_count": 15,
     "metadata": {},
     "output_type": "execute_result"
    }
   ],
   "source": [
    "print(\"Sorted Eigenvalues:\",sorted_eigenvalues)\n",
    "print(\"\\nCorresponding Sorted Eigenvectors:\")\n",
    "sorted_eigenvectors"
   ]
  },
  {
   "cell_type": "code",
   "execution_count": 16,
   "id": "d9cbdaae",
   "metadata": {},
   "outputs": [
    {
     "name": "stdout",
     "output_type": "stream",
     "text": [
      "Normilized matrix:\n"
     ]
    },
    {
     "data": {
      "text/plain": [
       "array([[  0.2,  -3.2],\n",
       "       [ -0.8,  57.8],\n",
       "       [  1.2, -17.2],\n",
       "       [ -2.8, -12.2],\n",
       "       [  2.2, -25.2]])"
      ]
     },
     "execution_count": 16,
     "metadata": {},
     "output_type": "execute_result"
    }
   ],
   "source": [
    "A=np.vstack((x_x_m,y_y_m)).T\n",
    "print(\"Normilized matrix:\")\n",
    "A"
   ]
  },
  {
   "cell_type": "code",
   "execution_count": 17,
   "id": "997c8d1a",
   "metadata": {},
   "outputs": [
    {
     "name": "stdout",
     "output_type": "stream",
     "text": [
      "Original matrix\n"
     ]
    },
    {
     "data": {
      "text/plain": [
       "array([[ 5, 38],\n",
       "       [ 4, 99],\n",
       "       [ 6, 24],\n",
       "       [ 2, 29],\n",
       "       [ 7, 16]])"
      ]
     },
     "execution_count": 17,
     "metadata": {},
     "output_type": "execute_result"
    }
   ],
   "source": [
    "B=np.vstack((x,y)).T\n",
    "print(\"Original matrix\")\n",
    "B"
   ]
  },
  {
   "cell_type": "code",
   "execution_count": 18,
   "id": "f2731e24",
   "metadata": {},
   "outputs": [
    {
     "name": "stdout",
     "output_type": "stream",
     "text": [
      "Final Matrix\n",
      "[[  3.20337305  -0.13565077]\n",
      " [-57.80440419  -0.36173994]\n",
      " [ 17.22064218  -0.85409765]\n",
      " [ 12.14126591   3.04461197]\n",
      " [ 25.23912305  -1.6931236 ]]\n"
     ]
    }
   ],
   "source": [
    "F=np.dot(A,sorted_eigenvectors)\n",
    "print(\"Final Matrix\")\n",
    "print(F)"
   ]
  },
  {
   "cell_type": "code",
   "execution_count": 19,
   "id": "59df00a2",
   "metadata": {
    "scrolled": true
   },
   "outputs": [
    {
     "data": {
      "image/png": "[encoded data removed]",
      "text/plain": [
       "<Figure size 640x480 with 1 Axes>"
      ]
     },
     "metadata": {},
     "output_type": "display_data"
    }
   ],
   "source": [
    "import matplotlib.pyplot as plt\n",
    "F = np.array(F)\n",
    "B = np.array(B)\n",
    "plt.scatter(F[:, 0], F[:, 1], color='blue', label='Final Points')\n",
    "plt.scatter(B[:, 0], B[:, 1], color='orange', label='Original Points')\n",
    "plt.xlabel('X')\n",
    "plt.ylabel('Y')\n",
    "plt.title('Scatter Plot of Final Points and Original Points')\n",
    "plt.grid(True)\n",
    "plt.legend()\n",
    "plt.show()"
   ]
  },
  {
   "cell_type": "markdown",
   "id": "08cfe59b",
   "metadata": {},
   "source": [
    "##### Implement Principal Component Analysis Algorithm and use it to reduce dimensionsof Iris Dataset (from 4D to 2D). Plot the scatter plot for samples in the transformeddomain with different colour codes for samples belonging to different classes."
   ]
  },
  {
   "cell_type": "code",
   "execution_count": 20,
   "id": "011ff80c",
   "metadata": {},
   "outputs": [
    {
     "data": {
      "text/html": [
       "<div>\n",
       "<style scoped>\n",
       "    .dataframe tbody tr th:only-of-type {\n",
       "        vertical-align: middle;\n",
       "    }\n",
       "\n",
       "    .dataframe tbody tr th {\n",
       "        vertical-align: top;\n",
       "    }\n",
       "\n",
       "    .dataframe thead th {\n",
       "        text-align: right;\n",
       "    }\n",
       "</style>\n",
       "<table border=\"1\" class=\"dataframe\">\n",
       "  <thead>\n",
       "    <tr style=\"text-align: right;\">\n",
       "      <th></th>\n",
       "      <th>Sepal.Length</th>\n",
       "      <th>Sepal.Width</th>\n",
       "      <th>Petal.Length</th>\n",
       "      <th>Petal.Width</th>\n",
       "      <th>Species</th>\n",
       "    </tr>\n",
       "  </thead>\n",
       "  <tbody>\n",
       "    <tr>\n",
       "      <th>0</th>\n",
       "      <td>5.1</td>\n",
       "      <td>3.5</td>\n",
       "      <td>1.4</td>\n",
       "      <td>0.2</td>\n",
       "      <td>setosa</td>\n",
       "    </tr>\n",
       "    <tr>\n",
       "      <th>1</th>\n",
       "      <td>4.9</td>\n",
       "      <td>3.0</td>\n",
       "      <td>1.4</td>\n",
       "      <td>0.2</td>\n",
       "      <td>setosa</td>\n",
       "    </tr>\n",
       "    <tr>\n",
       "      <th>2</th>\n",
       "      <td>4.7</td>\n",
       "      <td>3.2</td>\n",
       "      <td>1.3</td>\n",
       "      <td>0.2</td>\n",
       "      <td>setosa</td>\n",
       "    </tr>\n",
       "    <tr>\n",
       "      <th>3</th>\n",
       "      <td>4.6</td>\n",
       "      <td>3.1</td>\n",
       "      <td>1.5</td>\n",
       "      <td>0.2</td>\n",
       "      <td>setosa</td>\n",
       "    </tr>\n",
       "    <tr>\n",
       "      <th>4</th>\n",
       "      <td>5.0</td>\n",
       "      <td>3.6</td>\n",
       "      <td>1.4</td>\n",
       "      <td>0.2</td>\n",
       "      <td>setosa</td>\n",
       "    </tr>\n",
       "    <tr>\n",
       "      <th>...</th>\n",
       "      <td>...</td>\n",
       "      <td>...</td>\n",
       "      <td>...</td>\n",
       "      <td>...</td>\n",
       "      <td>...</td>\n",
       "    </tr>\n",
       "    <tr>\n",
       "      <th>145</th>\n",
       "      <td>6.7</td>\n",
       "      <td>3.0</td>\n",
       "      <td>5.2</td>\n",
       "      <td>2.3</td>\n",
       "      <td>virginica</td>\n",
       "    </tr>\n",
       "    <tr>\n",
       "      <th>146</th>\n",
       "      <td>6.3</td>\n",
       "      <td>2.5</td>\n",
       "      <td>5.0</td>\n",
       "      <td>1.9</td>\n",
       "      <td>virginica</td>\n",
       "    </tr>\n",
       "    <tr>\n",
       "      <th>147</th>\n",
       "      <td>6.5</td>\n",
       "      <td>3.0</td>\n",
       "      <td>5.2</td>\n",
       "      <td>2.0</td>\n",
       "      <td>virginica</td>\n",
       "    </tr>\n",
       "    <tr>\n",
       "      <th>148</th>\n",
       "      <td>6.2</td>\n",
       "      <td>3.4</td>\n",
       "      <td>5.4</td>\n",
       "      <td>2.3</td>\n",
       "      <td>virginica</td>\n",
       "    </tr>\n",
       "    <tr>\n",
       "      <th>149</th>\n",
       "      <td>5.9</td>\n",
       "      <td>3.0</td>\n",
       "      <td>5.1</td>\n",
       "      <td>1.8</td>\n",
       "      <td>virginica</td>\n",
       "    </tr>\n",
       "  </tbody>\n",
       "</table>\n",
       "<p>150 rows × 5 columns</p>\n",
       "</div>"
      ],
      "text/plain": [
       "     Sepal.Length  Sepal.Width  Petal.Length  Petal.Width    Species\n",
       "0             5.1          3.5           1.4          0.2     setosa\n",
       "1             4.9          3.0           1.4          0.2     setosa\n",
       "2             4.7          3.2           1.3          0.2     setosa\n",
       "3             4.6          3.1           1.5          0.2     setosa\n",
       "4             5.0          3.6           1.4          0.2     setosa\n",
       "..            ...          ...           ...          ...        ...\n",
       "145           6.7          3.0           5.2          2.3  virginica\n",
       "146           6.3          2.5           5.0          1.9  virginica\n",
       "147           6.5          3.0           5.2          2.0  virginica\n",
       "148           6.2          3.4           5.4          2.3  virginica\n",
       "149           5.9          3.0           5.1          1.8  virginica\n",
       "\n",
       "[150 rows x 5 columns]"
      ]
     },
     "execution_count": 20,
     "metadata": {},
     "output_type": "execute_result"
    }
   ],
   "source": [
    "df=pd.read_csv(\"iris.csv\")\n",
    "df"
   ]
  },
  {
   "cell_type": "code",
   "execution_count": 21,
   "id": "14ab4e82",
   "metadata": {},
   "outputs": [
    {
     "data": {
      "text/plain": [
       "array([5.84333333, 3.05733333, 3.758     , 1.19933333])"
      ]
     },
     "execution_count": 21,
     "metadata": {},
     "output_type": "execute_result"
    }
   ],
   "source": [
    "d=df.drop(\"Species\",axis=1)\n",
    "d=np.array(d)\n",
    "mean=np.mean(d,axis=0)\n",
    "mean"
   ]
  },
  {
   "cell_type": "code",
   "execution_count": 22,
   "id": "eb099f74",
   "metadata": {},
   "outputs": [
    {
     "data": {
      "text/plain": [
       "array([0.82530129, 0.43441097, 1.75940407, 0.75969263])"
      ]
     },
     "execution_count": 22,
     "metadata": {},
     "output_type": "execute_result"
    }
   ],
   "source": [
    "var_d=np.var(d,axis=0)\n",
    "s_d_s=var_d**.5\n",
    "s_d_s #variance and standared devation"
   ]
  },
  {
   "cell_type": "code",
   "execution_count": 23,
   "id": "b1c00fba",
   "metadata": {},
   "outputs": [
    {
     "data": {
      "text/plain": [
       "array([[-9.00681170e-01,  1.01900435e+00, -1.34022653e+00,\n",
       "        -1.31544430e+00],\n",
       "       [-1.14301691e+00, -1.31979479e-01, -1.34022653e+00,\n",
       "        -1.31544430e+00],\n",
       "       [-1.38535265e+00,  3.28414053e-01, -1.39706395e+00,\n",
       "        -1.31544430e+00],\n",
       "       [-1.50652052e+00,  9.82172869e-02, -1.28338910e+00,\n",
       "        -1.31544430e+00],\n",
       "       [-1.02184904e+00,  1.24920112e+00, -1.34022653e+00,\n",
       "        -1.31544430e+00],\n",
       "       [-5.37177559e-01,  1.93979142e+00, -1.16971425e+00,\n",
       "        -1.05217993e+00],\n",
       "       [-1.50652052e+00,  7.88807586e-01, -1.34022653e+00,\n",
       "        -1.18381211e+00],\n",
       "       [-1.02184904e+00,  7.88807586e-01, -1.28338910e+00,\n",
       "        -1.31544430e+00],\n",
       "       [-1.74885626e+00, -3.62176246e-01, -1.34022653e+00,\n",
       "        -1.31544430e+00],\n",
       "       [-1.14301691e+00,  9.82172869e-02, -1.28338910e+00,\n",
       "        -1.44707648e+00],\n",
       "       [-5.37177559e-01,  1.47939788e+00, -1.28338910e+00,\n",
       "        -1.31544430e+00],\n",
       "       [-1.26418478e+00,  7.88807586e-01, -1.22655167e+00,\n",
       "        -1.31544430e+00],\n",
       "       [-1.26418478e+00, -1.31979479e-01, -1.34022653e+00,\n",
       "        -1.44707648e+00],\n",
       "       [-1.87002413e+00, -1.31979479e-01, -1.51073881e+00,\n",
       "        -1.44707648e+00],\n",
       "       [-5.25060772e-02,  2.16998818e+00, -1.45390138e+00,\n",
       "        -1.31544430e+00],\n",
       "       [-1.73673948e-01,  3.09077525e+00, -1.28338910e+00,\n",
       "        -1.05217993e+00],\n",
       "       [-5.37177559e-01,  1.93979142e+00, -1.39706395e+00,\n",
       "        -1.05217993e+00],\n",
       "       [-9.00681170e-01,  1.01900435e+00, -1.34022653e+00,\n",
       "        -1.18381211e+00],\n",
       "       [-1.73673948e-01,  1.70959465e+00, -1.16971425e+00,\n",
       "        -1.18381211e+00],\n",
       "       [-9.00681170e-01,  1.70959465e+00, -1.28338910e+00,\n",
       "        -1.18381211e+00],\n",
       "       [-5.37177559e-01,  7.88807586e-01, -1.16971425e+00,\n",
       "        -1.31544430e+00],\n",
       "       [-9.00681170e-01,  1.47939788e+00, -1.28338910e+00,\n",
       "        -1.05217993e+00],\n",
       "       [-1.50652052e+00,  1.24920112e+00, -1.56757623e+00,\n",
       "        -1.31544430e+00],\n",
       "       [-9.00681170e-01,  5.58610819e-01, -1.16971425e+00,\n",
       "        -9.20547742e-01],\n",
       "       [-1.26418478e+00,  7.88807586e-01, -1.05603939e+00,\n",
       "        -1.31544430e+00],\n",
       "       [-1.02184904e+00, -1.31979479e-01, -1.22655167e+00,\n",
       "        -1.31544430e+00],\n",
       "       [-1.02184904e+00,  7.88807586e-01, -1.22655167e+00,\n",
       "        -1.05217993e+00],\n",
       "       [-7.79513300e-01,  1.01900435e+00, -1.28338910e+00,\n",
       "        -1.31544430e+00],\n",
       "       [-7.79513300e-01,  7.88807586e-01, -1.34022653e+00,\n",
       "        -1.31544430e+00],\n",
       "       [-1.38535265e+00,  3.28414053e-01, -1.22655167e+00,\n",
       "        -1.31544430e+00],\n",
       "       [-1.26418478e+00,  9.82172869e-02, -1.22655167e+00,\n",
       "        -1.31544430e+00],\n",
       "       [-5.37177559e-01,  7.88807586e-01, -1.28338910e+00,\n",
       "        -1.05217993e+00],\n",
       "       [-7.79513300e-01,  2.40018495e+00, -1.28338910e+00,\n",
       "        -1.44707648e+00],\n",
       "       [-4.16009689e-01,  2.63038172e+00, -1.34022653e+00,\n",
       "        -1.31544430e+00],\n",
       "       [-1.14301691e+00,  9.82172869e-02, -1.28338910e+00,\n",
       "        -1.31544430e+00],\n",
       "       [-1.02184904e+00,  3.28414053e-01, -1.45390138e+00,\n",
       "        -1.31544430e+00],\n",
       "       [-4.16009689e-01,  1.01900435e+00, -1.39706395e+00,\n",
       "        -1.31544430e+00],\n",
       "       [-1.14301691e+00,  1.24920112e+00, -1.34022653e+00,\n",
       "        -1.44707648e+00],\n",
       "       [-1.74885626e+00, -1.31979479e-01, -1.39706395e+00,\n",
       "        -1.31544430e+00],\n",
       "       [-9.00681170e-01,  7.88807586e-01, -1.28338910e+00,\n",
       "        -1.31544430e+00],\n",
       "       [-1.02184904e+00,  1.01900435e+00, -1.39706395e+00,\n",
       "        -1.18381211e+00],\n",
       "       [-1.62768839e+00, -1.74335684e+00, -1.39706395e+00,\n",
       "        -1.18381211e+00],\n",
       "       [-1.74885626e+00,  3.28414053e-01, -1.39706395e+00,\n",
       "        -1.31544430e+00],\n",
       "       [-1.02184904e+00,  1.01900435e+00, -1.22655167e+00,\n",
       "        -7.88915558e-01],\n",
       "       [-9.00681170e-01,  1.70959465e+00, -1.05603939e+00,\n",
       "        -1.05217993e+00],\n",
       "       [-1.26418478e+00, -1.31979479e-01, -1.34022653e+00,\n",
       "        -1.18381211e+00],\n",
       "       [-9.00681170e-01,  1.70959465e+00, -1.22655167e+00,\n",
       "        -1.31544430e+00],\n",
       "       [-1.50652052e+00,  3.28414053e-01, -1.34022653e+00,\n",
       "        -1.31544430e+00],\n",
       "       [-6.58345429e-01,  1.47939788e+00, -1.28338910e+00,\n",
       "        -1.31544430e+00],\n",
       "       [-1.02184904e+00,  5.58610819e-01, -1.34022653e+00,\n",
       "        -1.31544430e+00],\n",
       "       [ 1.40150837e+00,  3.28414053e-01,  5.35408562e-01,\n",
       "         2.64141916e-01],\n",
       "       [ 6.74501145e-01,  3.28414053e-01,  4.21733708e-01,\n",
       "         3.95774101e-01],\n",
       "       [ 1.28034050e+00,  9.82172869e-02,  6.49083415e-01,\n",
       "         3.95774101e-01],\n",
       "       [-4.16009689e-01, -1.74335684e+00,  1.37546573e-01,\n",
       "         1.32509732e-01],\n",
       "       [ 7.95669016e-01, -5.92373012e-01,  4.78571135e-01,\n",
       "         3.95774101e-01],\n",
       "       [-1.73673948e-01, -5.92373012e-01,  4.21733708e-01,\n",
       "         1.32509732e-01],\n",
       "       [ 5.53333275e-01,  5.58610819e-01,  5.35408562e-01,\n",
       "         5.27406285e-01],\n",
       "       [-1.14301691e+00, -1.51316008e+00, -2.60315415e-01,\n",
       "        -2.62386821e-01],\n",
       "       [ 9.16836886e-01, -3.62176246e-01,  4.78571135e-01,\n",
       "         1.32509732e-01],\n",
       "       [-7.79513300e-01, -8.22569778e-01,  8.07091462e-02,\n",
       "         2.64141916e-01],\n",
       "       [-1.02184904e+00, -2.43394714e+00, -1.46640561e-01,\n",
       "        -2.62386821e-01],\n",
       "       [ 6.86617933e-02, -1.31979479e-01,  2.51221427e-01,\n",
       "         3.95774101e-01],\n",
       "       [ 1.89829664e-01, -1.97355361e+00,  1.37546573e-01,\n",
       "        -2.62386821e-01],\n",
       "       [ 3.10997534e-01, -3.62176246e-01,  5.35408562e-01,\n",
       "         2.64141916e-01],\n",
       "       [-2.94841818e-01, -3.62176246e-01, -8.98031345e-02,\n",
       "         1.32509732e-01],\n",
       "       [ 1.03800476e+00,  9.82172869e-02,  3.64896281e-01,\n",
       "         2.64141916e-01],\n",
       "       [-2.94841818e-01, -1.31979479e-01,  4.21733708e-01,\n",
       "         3.95774101e-01],\n",
       "       [-5.25060772e-02, -8.22569778e-01,  1.94384000e-01,\n",
       "        -2.62386821e-01],\n",
       "       [ 4.32165405e-01, -1.97355361e+00,  4.21733708e-01,\n",
       "         3.95774101e-01],\n",
       "       [-2.94841818e-01, -1.28296331e+00,  8.07091462e-02,\n",
       "        -1.30754636e-01],\n",
       "       [ 6.86617933e-02,  3.28414053e-01,  5.92245988e-01,\n",
       "         7.90670654e-01],\n",
       "       [ 3.10997534e-01, -5.92373012e-01,  1.37546573e-01,\n",
       "         1.32509732e-01],\n",
       "       [ 5.53333275e-01, -1.28296331e+00,  6.49083415e-01,\n",
       "         3.95774101e-01],\n",
       "       [ 3.10997534e-01, -5.92373012e-01,  5.35408562e-01,\n",
       "         8.77547895e-04],\n",
       "       [ 6.74501145e-01, -3.62176246e-01,  3.08058854e-01,\n",
       "         1.32509732e-01],\n",
       "       [ 9.16836886e-01, -1.31979479e-01,  3.64896281e-01,\n",
       "         2.64141916e-01],\n",
       "       [ 1.15917263e+00, -5.92373012e-01,  5.92245988e-01,\n",
       "         2.64141916e-01],\n",
       "       [ 1.03800476e+00, -1.31979479e-01,  7.05920842e-01,\n",
       "         6.59038469e-01],\n",
       "       [ 1.89829664e-01, -3.62176246e-01,  4.21733708e-01,\n",
       "         3.95774101e-01],\n",
       "       [-1.73673948e-01, -1.05276654e+00, -1.46640561e-01,\n",
       "        -2.62386821e-01],\n",
       "       [-4.16009689e-01, -1.51316008e+00,  2.38717193e-02,\n",
       "        -1.30754636e-01],\n",
       "       [-4.16009689e-01, -1.51316008e+00, -3.29657076e-02,\n",
       "        -2.62386821e-01],\n",
       "       [-5.25060772e-02, -8.22569778e-01,  8.07091462e-02,\n",
       "         8.77547895e-04],\n",
       "       [ 1.89829664e-01, -8.22569778e-01,  7.62758269e-01,\n",
       "         5.27406285e-01],\n",
       "       [-5.37177559e-01, -1.31979479e-01,  4.21733708e-01,\n",
       "         3.95774101e-01],\n",
       "       [ 1.89829664e-01,  7.88807586e-01,  4.21733708e-01,\n",
       "         5.27406285e-01],\n",
       "       [ 1.03800476e+00,  9.82172869e-02,  5.35408562e-01,\n",
       "         3.95774101e-01],\n",
       "       [ 5.53333275e-01, -1.74335684e+00,  3.64896281e-01,\n",
       "         1.32509732e-01],\n",
       "       [-2.94841818e-01, -1.31979479e-01,  1.94384000e-01,\n",
       "         1.32509732e-01],\n",
       "       [-4.16009689e-01, -1.28296331e+00,  1.37546573e-01,\n",
       "         1.32509732e-01],\n",
       "       [-4.16009689e-01, -1.05276654e+00,  3.64896281e-01,\n",
       "         8.77547895e-04],\n",
       "       [ 3.10997534e-01, -1.31979479e-01,  4.78571135e-01,\n",
       "         2.64141916e-01],\n",
       "       [-5.25060772e-02, -1.05276654e+00,  1.37546573e-01,\n",
       "         8.77547895e-04],\n",
       "       [-1.02184904e+00, -1.74335684e+00, -2.60315415e-01,\n",
       "        -2.62386821e-01],\n",
       "       [-2.94841818e-01, -8.22569778e-01,  2.51221427e-01,\n",
       "         1.32509732e-01],\n",
       "       [-1.73673948e-01, -1.31979479e-01,  2.51221427e-01,\n",
       "         8.77547895e-04],\n",
       "       [-1.73673948e-01, -3.62176246e-01,  2.51221427e-01,\n",
       "         1.32509732e-01],\n",
       "       [ 4.32165405e-01, -3.62176246e-01,  3.08058854e-01,\n",
       "         1.32509732e-01],\n",
       "       [-9.00681170e-01, -1.28296331e+00, -4.30827696e-01,\n",
       "        -1.30754636e-01],\n",
       "       [-1.73673948e-01, -5.92373012e-01,  1.94384000e-01,\n",
       "         1.32509732e-01],\n",
       "       [ 5.53333275e-01,  5.58610819e-01,  1.27429511e+00,\n",
       "         1.71209594e+00],\n",
       "       [-5.25060772e-02, -8.22569778e-01,  7.62758269e-01,\n",
       "         9.22302838e-01],\n",
       "       [ 1.52267624e+00, -1.31979479e-01,  1.21745768e+00,\n",
       "         1.18556721e+00],\n",
       "       [ 5.53333275e-01, -3.62176246e-01,  1.04694540e+00,\n",
       "         7.90670654e-01],\n",
       "       [ 7.95669016e-01, -1.31979479e-01,  1.16062026e+00,\n",
       "         1.31719939e+00],\n",
       "       [ 2.12851559e+00, -1.31979479e-01,  1.61531967e+00,\n",
       "         1.18556721e+00],\n",
       "       [-1.14301691e+00, -1.28296331e+00,  4.21733708e-01,\n",
       "         6.59038469e-01],\n",
       "       [ 1.76501198e+00, -3.62176246e-01,  1.44480739e+00,\n",
       "         7.90670654e-01],\n",
       "       [ 1.03800476e+00, -1.28296331e+00,  1.16062026e+00,\n",
       "         7.90670654e-01],\n",
       "       [ 1.64384411e+00,  1.24920112e+00,  1.33113254e+00,\n",
       "         1.71209594e+00],\n",
       "       [ 7.95669016e-01,  3.28414053e-01,  7.62758269e-01,\n",
       "         1.05393502e+00],\n",
       "       [ 6.74501145e-01, -8.22569778e-01,  8.76433123e-01,\n",
       "         9.22302838e-01],\n",
       "       [ 1.15917263e+00, -1.31979479e-01,  9.90107977e-01,\n",
       "         1.18556721e+00],\n",
       "       [-1.73673948e-01, -1.28296331e+00,  7.05920842e-01,\n",
       "         1.05393502e+00],\n",
       "       [-5.25060772e-02, -5.92373012e-01,  7.62758269e-01,\n",
       "         1.58046376e+00],\n",
       "       [ 6.74501145e-01,  3.28414053e-01,  8.76433123e-01,\n",
       "         1.44883158e+00],\n",
       "       [ 7.95669016e-01, -1.31979479e-01,  9.90107977e-01,\n",
       "         7.90670654e-01],\n",
       "       [ 2.24968346e+00,  1.70959465e+00,  1.67215710e+00,\n",
       "         1.31719939e+00],\n",
       "       [ 2.24968346e+00, -1.05276654e+00,  1.78583195e+00,\n",
       "         1.44883158e+00],\n",
       "       [ 1.89829664e-01, -1.97355361e+00,  7.05920842e-01,\n",
       "         3.95774101e-01],\n",
       "       [ 1.28034050e+00,  3.28414053e-01,  1.10378283e+00,\n",
       "         1.44883158e+00],\n",
       "       [-2.94841818e-01, -5.92373012e-01,  6.49083415e-01,\n",
       "         1.05393502e+00],\n",
       "       [ 2.24968346e+00, -5.92373012e-01,  1.67215710e+00,\n",
       "         1.05393502e+00],\n",
       "       [ 5.53333275e-01, -8.22569778e-01,  6.49083415e-01,\n",
       "         7.90670654e-01],\n",
       "       [ 1.03800476e+00,  5.58610819e-01,  1.10378283e+00,\n",
       "         1.18556721e+00],\n",
       "       [ 1.64384411e+00,  3.28414053e-01,  1.27429511e+00,\n",
       "         7.90670654e-01],\n",
       "       [ 4.32165405e-01, -5.92373012e-01,  5.92245988e-01,\n",
       "         7.90670654e-01],\n",
       "       [ 3.10997534e-01, -1.31979479e-01,  6.49083415e-01,\n",
       "         7.90670654e-01],\n",
       "       [ 6.74501145e-01, -5.92373012e-01,  1.04694540e+00,\n",
       "         1.18556721e+00],\n",
       "       [ 1.64384411e+00, -1.31979479e-01,  1.16062026e+00,\n",
       "         5.27406285e-01],\n",
       "       [ 1.88617985e+00, -5.92373012e-01,  1.33113254e+00,\n",
       "         9.22302838e-01],\n",
       "       [ 2.49201920e+00,  1.70959465e+00,  1.50164482e+00,\n",
       "         1.05393502e+00],\n",
       "       [ 6.74501145e-01, -5.92373012e-01,  1.04694540e+00,\n",
       "         1.31719939e+00],\n",
       "       [ 5.53333275e-01, -5.92373012e-01,  7.62758269e-01,\n",
       "         3.95774101e-01],\n",
       "       [ 3.10997534e-01, -1.05276654e+00,  1.04694540e+00,\n",
       "         2.64141916e-01],\n",
       "       [ 2.24968346e+00, -1.31979479e-01,  1.33113254e+00,\n",
       "         1.44883158e+00],\n",
       "       [ 5.53333275e-01,  7.88807586e-01,  1.04694540e+00,\n",
       "         1.58046376e+00],\n",
       "       [ 6.74501145e-01,  9.82172869e-02,  9.90107977e-01,\n",
       "         7.90670654e-01],\n",
       "       [ 1.89829664e-01, -1.31979479e-01,  5.92245988e-01,\n",
       "         7.90670654e-01],\n",
       "       [ 1.28034050e+00,  9.82172869e-02,  9.33270550e-01,\n",
       "         1.18556721e+00],\n",
       "       [ 1.03800476e+00,  9.82172869e-02,  1.04694540e+00,\n",
       "         1.58046376e+00],\n",
       "       [ 1.28034050e+00,  9.82172869e-02,  7.62758269e-01,\n",
       "         1.44883158e+00],\n",
       "       [-5.25060772e-02, -8.22569778e-01,  7.62758269e-01,\n",
       "         9.22302838e-01],\n",
       "       [ 1.15917263e+00,  3.28414053e-01,  1.21745768e+00,\n",
       "         1.44883158e+00],\n",
       "       [ 1.03800476e+00,  5.58610819e-01,  1.10378283e+00,\n",
       "         1.71209594e+00],\n",
       "       [ 1.03800476e+00, -1.31979479e-01,  8.19595696e-01,\n",
       "         1.44883158e+00],\n",
       "       [ 5.53333275e-01, -1.28296331e+00,  7.05920842e-01,\n",
       "         9.22302838e-01],\n",
       "       [ 7.95669016e-01, -1.31979479e-01,  8.19595696e-01,\n",
       "         1.05393502e+00],\n",
       "       [ 4.32165405e-01,  7.88807586e-01,  9.33270550e-01,\n",
       "         1.44883158e+00],\n",
       "       [ 6.86617933e-02, -1.31979479e-01,  7.62758269e-01,\n",
       "         7.90670654e-01]])"
      ]
     },
     "execution_count": 23,
     "metadata": {},
     "output_type": "execute_result"
    }
   ],
   "source": [
    "n_o_r=(d-mean)/s_d_s\n",
    "n_o_r#Normilization of the given data"
   ]
  },
  {
   "cell_type": "code",
   "execution_count": 24,
   "id": "1d1bae41",
   "metadata": {},
   "outputs": [],
   "source": [
    "def covariance_matrix(data):\n",
    "    means=np.mean(data,axis=0)\n",
    "    n=len(data)\n",
    "    m=len(data[0])\n",
    "    cov_matrix=np.zeros((m,m))\n",
    "    for i in range(m):\n",
    "        for j in range(m):\n",
    "            cov_matrix[i][j]=np.sum((data[:,i]-means[i])*(data[:,j]-means[j]))/(n - 1)\n",
    "    return cov_matrix"
   ]
  },
  {
   "cell_type": "code",
   "execution_count": 25,
   "id": "0daf9919",
   "metadata": {},
   "outputs": [],
   "source": [
    "C=covariance_matrix(n_o_r) # Covariance matrix"
   ]
  },
  {
   "cell_type": "code",
   "execution_count": 26,
   "id": "315b682b",
   "metadata": {},
   "outputs": [
    {
     "name": "stdout",
     "output_type": "stream",
     "text": [
      "[[ 1.00671141 -0.11835884  0.87760447  0.82343066]\n",
      " [-0.11835884  1.00671141 -0.43131554 -0.36858315]\n",
      " [ 0.87760447 -0.43131554  1.00671141  0.96932762]\n",
      " [ 0.82343066 -0.36858315  0.96932762  1.00671141]]\n"
     ]
    }
   ],
   "source": [
    "print(C)"
   ]
  },
  {
   "cell_type": "code",
   "execution_count": 27,
   "id": "d2080d19",
   "metadata": {},
   "outputs": [
    {
     "name": "stdout",
     "output_type": "stream",
     "text": [
      "[[ 1.00671141 -0.11835884  0.87760447  0.82343066]\n",
      " [-0.11835884  1.00671141 -0.43131554 -0.36858315]\n",
      " [ 0.87760447 -0.43131554  1.00671141  0.96932762]\n",
      " [ 0.82343066 -0.36858315  0.96932762  1.00671141]]\n"
     ]
    }
   ],
   "source": [
    "print(np.cov(n_o_r, rowvar=False)) #direct way"
   ]
  },
  {
   "cell_type": "code",
   "execution_count": 28,
   "id": "eac30356",
   "metadata": {},
   "outputs": [],
   "source": [
    "eigenvalues, eigenvectors = np.linalg.eig(C) # sorting the eign values baed on index values and sorting  \n",
    "sorted_indices = np.argsort(eigenvalues)[::-1]#in the eigen values and eigen vectors\n",
    "sorted_eigenvalues = eigenvalues[sorted_indices]# the sorting is doing by decending order because we max eigen values\n",
    "sorted_eigenvectors = eigenvectors[:, sorted_indices]"
   ]
  },
  {
   "cell_type": "code",
   "execution_count": 29,
   "id": "b007d25c",
   "metadata": {},
   "outputs": [
    {
     "name": "stdout",
     "output_type": "stream",
     "text": [
      "Sorted Eigenvalues: [2.93808505 0.9201649  0.14774182 0.02085386]\n",
      "\n",
      "Corresponding Sorted Eigenvectors: [[ 0.52106591 -0.37741762 -0.71956635  0.26128628]\n",
      " [-0.26934744 -0.92329566  0.24438178 -0.12350962]\n",
      " [ 0.5804131  -0.02449161  0.14212637 -0.80144925]\n",
      " [ 0.56485654 -0.06694199  0.63427274  0.52359713]]\n"
     ]
    }
   ],
   "source": [
    "print(\"Sorted Eigenvalues:\",sorted_eigenvalues)\n",
    "print(\"\\nCorresponding Sorted Eigenvectors:\",sorted_eigenvectors)"
   ]
  },
  {
   "cell_type": "code",
   "execution_count": 30,
   "id": "4751c83e",
   "metadata": {},
   "outputs": [
    {
     "name": "stdout",
     "output_type": "stream",
     "text": [
      "[2.93808505 0.9201649  0.14774182 0.02085386] [[ 0.52106591 -0.37741762 -0.71956635  0.26128628]\n",
      " [-0.26934744 -0.92329566  0.24438178 -0.12350962]\n",
      " [ 0.5804131  -0.02449161  0.14212637 -0.80144925]\n",
      " [ 0.56485654 -0.06694199  0.63427274  0.52359713]]\n"
     ]
    }
   ],
   "source": [
    "print(eigenvalues, eigenvectors)"
   ]
  },
  {
   "cell_type": "code",
   "execution_count": 31,
   "id": "0eb7b32b",
   "metadata": {},
   "outputs": [
    {
     "name": "stdout",
     "output_type": "stream",
     "text": [
      "Top 2 Eigenvalues:\n",
      "[2.93808505 0.9201649 ]\n",
      "\n",
      "Corresponding Top 2 Eigenvectors:\n",
      "[[ 0.52106591 -0.37741762]\n",
      " [-0.26934744 -0.92329566]\n",
      " [ 0.5804131  -0.02449161]\n",
      " [ 0.56485654 -0.06694199]]\n"
     ]
    }
   ],
   "source": [
    "top_eigenvalues = sorted_eigenvalues[:2] # we converting 4D to 2D so we are keeping only 2 top eigen vectors\n",
    "top_eigenvectors = sorted_eigenvectors[:, :2]\n",
    "print(\"Top 2 Eigenvalues:\")\n",
    "print(top_eigenvalues)\n",
    "print(\"\\nCorresponding Top 2 Eigenvectors:\")\n",
    "print(top_eigenvectors)"
   ]
  },
  {
   "cell_type": "markdown",
   "id": "e41541b0",
   "metadata": {},
   "source": [
    "### Final Matrix after normilization"
   ]
  },
  {
   "cell_type": "code",
   "execution_count": 32,
   "id": "1e408331",
   "metadata": {},
   "outputs": [
    {
     "name": "stdout",
     "output_type": "stream",
     "text": [
      "[[-2.26470281 -0.4800266 ]\n",
      " [-2.08096115  0.67413356]\n",
      " [-2.36422905  0.34190802]\n",
      " [-2.29938422  0.59739451]\n",
      " [-2.38984217 -0.64683538]\n",
      " [-2.07563095 -1.48917752]\n",
      " [-2.44402884 -0.0476442 ]\n",
      " [-2.23284716 -0.22314807]\n",
      " [-2.33464048  1.11532768]\n",
      " [-2.18432817  0.46901356]\n",
      " [-2.1663101  -1.04369065]\n",
      " [-2.32613087 -0.13307834]\n",
      " [-2.2184509   0.72867617]\n",
      " [-2.6331007   0.96150673]\n",
      " [-2.1987406  -1.86005711]\n",
      " [-2.26221453 -2.68628449]\n",
      " [-2.2075877  -1.48360936]\n",
      " [-2.19034951 -0.48883832]\n",
      " [-1.898572   -1.40501879]\n",
      " [-2.34336905 -1.12784938]\n",
      " [-1.914323   -0.40885571]\n",
      " [-2.20701284 -0.92412143]\n",
      " [-2.7743447  -0.45834367]\n",
      " [-1.81866953 -0.08555853]\n",
      " [-2.22716331 -0.13725446]\n",
      " [-1.95184633  0.62561859]\n",
      " [-2.05115137 -0.24216355]\n",
      " [-2.16857717 -0.52714953]\n",
      " [-2.13956345 -0.31321781]\n",
      " [-2.26526149  0.3377319 ]\n",
      " [-2.14012214  0.50454069]\n",
      " [-1.83159477 -0.42369507]\n",
      " [-2.61494794 -1.79357586]\n",
      " [-2.44617739 -2.15072788]\n",
      " [-2.10997488  0.46020184]\n",
      " [-2.2078089   0.2061074 ]\n",
      " [-2.04514621 -0.66155811]\n",
      " [-2.52733191 -0.59229277]\n",
      " [-2.42963258  0.90418004]\n",
      " [-2.16971071 -0.26887896]\n",
      " [-2.28647514 -0.44171539]\n",
      " [-1.85812246  2.33741516]\n",
      " [-2.5536384   0.47910069]\n",
      " [-1.96444768 -0.47232667]\n",
      " [-2.13705901 -1.14222926]\n",
      " [-2.0697443   0.71105273]\n",
      " [-2.38473317 -1.1204297 ]\n",
      " [-2.39437631  0.38624687]\n",
      " [-2.22944655 -0.99795976]\n",
      " [-2.20383344 -0.00921636]\n",
      " [ 1.10178118 -0.86297242]\n",
      " [ 0.73133743 -0.59461473]\n",
      " [ 1.24097932 -0.61629765]\n",
      " [ 0.40748306  1.75440399]\n",
      " [ 1.0754747   0.20842105]\n",
      " [ 0.38868734  0.59328364]\n",
      " [ 0.74652974 -0.77301931]\n",
      " [-0.48732274  1.85242909]\n",
      " [ 0.92790164 -0.03222608]\n",
      " [ 0.01142619  1.03401828]\n",
      " [-0.11019628  2.65407282]\n",
      " [ 0.44069345  0.06329519]\n",
      " [ 0.56210831  1.76472438]\n",
      " [ 0.71956189  0.18622461]\n",
      " [-0.0333547   0.43900321]\n",
      " [ 0.87540719 -0.50906396]\n",
      " [ 0.35025167  0.19631173]\n",
      " [ 0.15881005  0.79209574]\n",
      " [ 1.22509363  1.6222438 ]\n",
      " [ 0.1649179   1.30260923]\n",
      " [ 0.73768265 -0.39657156]\n",
      " [ 0.47628719  0.41732028]\n",
      " [ 1.2341781   0.93332573]\n",
      " [ 0.6328582   0.41638772]\n",
      " [ 0.70266118  0.06341182]\n",
      " [ 0.87427365 -0.25079339]\n",
      " [ 1.25650912  0.07725602]\n",
      " [ 1.35840512 -0.33131168]\n",
      " [ 0.66480037  0.22592785]\n",
      " [-0.04025861  1.05871855]\n",
      " [ 0.13079518  1.56227183]\n",
      " [ 0.02345269  1.57247559]\n",
      " [ 0.24153827  0.77725638]\n",
      " [ 1.06109461  0.63384324]\n",
      " [ 0.22397877  0.28777351]\n",
      " [ 0.42913912 -0.84558224]\n",
      " [ 1.04872805 -0.5220518 ]\n",
      " [ 1.04453138  1.38298872]\n",
      " [ 0.06958832  0.21950333]\n",
      " [ 0.28347724  1.32932464]\n",
      " [ 0.27907778  1.12002852]\n",
      " [ 0.62456979 -0.02492303]\n",
      " [ 0.33653037  0.98840402]\n",
      " [-0.36218338  2.01923787]\n",
      " [ 0.28858624  0.85573032]\n",
      " [ 0.09136066  0.18119213]\n",
      " [ 0.22771687  0.38492008]\n",
      " [ 0.57638829  0.1548736 ]\n",
      " [-0.44766702  1.54379203]\n",
      " [ 0.25673059  0.5988518 ]\n",
      " [ 1.84456887 -0.87042131]\n",
      " [ 1.15788161  0.69886986]\n",
      " [ 2.20526679 -0.56201048]\n",
      " [ 1.44015066  0.04698759]\n",
      " [ 1.86781222 -0.29504482]\n",
      " [ 2.75187334 -0.8004092 ]\n",
      " [ 0.36701769  1.56150289]\n",
      " [ 2.30243944 -0.42006558]\n",
      " [ 2.00668647  0.71143865]\n",
      " [ 2.25977735 -1.92101038]\n",
      " [ 1.36417549 -0.69275645]\n",
      " [ 1.60267867  0.42170045]\n",
      " [ 1.8839007  -0.41924965]\n",
      " [ 1.2601151   1.16226042]\n",
      " [ 1.4676452   0.44227159]\n",
      " [ 1.59007732 -0.67624481]\n",
      " [ 1.47143146 -0.25562182]\n",
      " [ 2.42632899 -2.55666125]\n",
      " [ 3.31069558 -0.01778095]\n",
      " [ 1.26376667  1.70674538]\n",
      " [ 2.0377163  -0.91046741]\n",
      " [ 0.97798073  0.57176432]\n",
      " [ 2.89765149 -0.41364106]\n",
      " [ 1.33323218  0.48181122]\n",
      " [ 1.7007339  -1.01392187]\n",
      " [ 1.95432671 -1.0077776 ]\n",
      " [ 1.17510363  0.31639447]\n",
      " [ 1.02095055 -0.06434603]\n",
      " [ 1.78834992  0.18736121]\n",
      " [ 1.86364755 -0.56229073]\n",
      " [ 2.43595373 -0.25928443]\n",
      " [ 2.30492772 -2.62632347]\n",
      " [ 1.86270322  0.17854949]\n",
      " [ 1.11414774  0.29292262]\n",
      " [ 1.2024733   0.81131527]\n",
      " [ 2.79877045 -0.85680333]\n",
      " [ 1.57625591 -1.06858111]\n",
      " [ 1.3462921  -0.42243061]\n",
      " [ 0.92482492 -0.0172231 ]\n",
      " [ 1.85204505 -0.67612817]\n",
      " [ 2.01481043 -0.61388564]\n",
      " [ 1.90178409 -0.68957549]\n",
      " [ 1.15788161  0.69886986]\n",
      " [ 2.04055823 -0.8675206 ]\n",
      " [ 1.9981471  -1.04916875]\n",
      " [ 1.87050329 -0.38696608]\n",
      " [ 1.56458048  0.89668681]\n",
      " [ 1.5211705  -0.26906914]\n",
      " [ 1.37278779 -1.01125442]\n",
      " [ 0.96065603  0.02433167]]\n"
     ]
    }
   ],
   "source": [
    "F1=np.dot(n_o_r,top_eigenvectors)\n",
    "print(F1)"
   ]
  },
  {
   "cell_type": "code",
   "execution_count": 33,
   "id": "b92ff048",
   "metadata": {},
   "outputs": [
    {
     "data": {
      "image/png": "[encoded data removed]",
      "text/plain": [
       "<Figure size 640x480 with 1 Axes>"
      ]
     },
     "metadata": {},
     "output_type": "display_data"
    }
   ],
   "source": [
    "import numpy as np\n",
    "import matplotlib.pyplot as plt\n",
    "class_data=[F1[:50],F1[50:100],F1[100:150]]\n",
    "class_labels=['setosa','versicolor','virginica']\n",
    "class_colors = ['red','green','blue']\n",
    "for i, data in enumerate(class_data):\n",
    "    plt.scatter(data[:,0],data[:,1],color=class_colors[i],label=class_labels[i])\n",
    "plt.xlabel('Sepal.Length')\n",
    "plt.ylabel('Sepal.Width')\n",
    "plt.title('Scatter Plot of Samples in Transformed Domain')\n",
    "plt.legend()\n",
    "plt.grid(True)\n",
    "plt.show()\n"
   ]
  },
  {
   "cell_type": "code",
   "execution_count": null,
   "id": "d5e8694d",
   "metadata": {},
   "outputs": [],
   "source": []
  },
  {
   "cell_type": "code",
   "execution_count": null,
   "id": "29c45a6a",
   "metadata": {},
   "outputs": [],
   "source": []
  }
 ],
 "metadata": {
  "kernelspec": {
   "display_name": "Python 3 (ipykernel)",
   "language": "python",
   "name": "python3"
  },
  "language_info": {
   "codemirror_mode": {
    "name": "ipython",
    "version": 3
   },
   "file_extension": ".py",
   "mimetype": "text/x-python",
   "name": "python",
   "nbconvert_exporter": "python",
   "pygments_lexer": "ipython3",
   "version": "3.7.5"
  }
 },
 "nbformat": 4,
 "nbformat_minor": 5
}
