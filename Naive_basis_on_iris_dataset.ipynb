{
 "cells": [
  {
   "cell_type": "markdown",
   "id": "0d985bdf",
   "metadata": {},
   "source": [
    "# AP21110011538 YARAM SANDEEP REDDY"
   ]
  },
  {
   "cell_type": "markdown",
   "id": "0776a977",
   "metadata": {},
   "source": [
    "# Question 1"
   ]
  },
  {
   "cell_type": "code",
   "execution_count": 1,
   "id": "271dc094",
   "metadata": {},
   "outputs": [],
   "source": [
    "import numpy as np\n",
    "import pandas as pd"
   ]
  },
  {
   "cell_type": "code",
   "execution_count": 2,
   "id": "ff7c3350",
   "metadata": {},
   "outputs": [
    {
     "data": {
      "text/html": [
       "<div>\n",
       "<style scoped>\n",
       "    .dataframe tbody tr th:only-of-type {\n",
       "        vertical-align: middle;\n",
       "    }\n",
       "\n",
       "    .dataframe tbody tr th {\n",
       "        vertical-align: top;\n",
       "    }\n",
       "\n",
       "    .dataframe thead th {\n",
       "        text-align: right;\n",
       "    }\n",
       "</style>\n",
       "<table border=\"1\" class=\"dataframe\">\n",
       "  <thead>\n",
       "    <tr style=\"text-align: right;\">\n",
       "      <th></th>\n",
       "      <th>Sepal.Length</th>\n",
       "      <th>Sepal.Width</th>\n",
       "      <th>Petal.Length</th>\n",
       "      <th>Petal.Width</th>\n",
       "      <th>Species</th>\n",
       "    </tr>\n",
       "  </thead>\n",
       "  <tbody>\n",
       "    <tr>\n",
       "      <th>0</th>\n",
       "      <td>5.1</td>\n",
       "      <td>3.5</td>\n",
       "      <td>1.4</td>\n",
       "      <td>0.2</td>\n",
       "      <td>setosa</td>\n",
       "    </tr>\n",
       "    <tr>\n",
       "      <th>1</th>\n",
       "      <td>4.9</td>\n",
       "      <td>3.0</td>\n",
       "      <td>1.4</td>\n",
       "      <td>0.2</td>\n",
       "      <td>setosa</td>\n",
       "    </tr>\n",
       "    <tr>\n",
       "      <th>2</th>\n",
       "      <td>4.7</td>\n",
       "      <td>3.2</td>\n",
       "      <td>1.3</td>\n",
       "      <td>0.2</td>\n",
       "      <td>setosa</td>\n",
       "    </tr>\n",
       "    <tr>\n",
       "      <th>3</th>\n",
       "      <td>4.6</td>\n",
       "      <td>3.1</td>\n",
       "      <td>1.5</td>\n",
       "      <td>0.2</td>\n",
       "      <td>setosa</td>\n",
       "    </tr>\n",
       "    <tr>\n",
       "      <th>4</th>\n",
       "      <td>5.0</td>\n",
       "      <td>3.6</td>\n",
       "      <td>1.4</td>\n",
       "      <td>0.2</td>\n",
       "      <td>setosa</td>\n",
       "    </tr>\n",
       "  </tbody>\n",
       "</table>\n",
       "</div>"
      ],
      "text/plain": [
       "   Sepal.Length  Sepal.Width  Petal.Length  Petal.Width Species\n",
       "0           5.1          3.5           1.4          0.2  setosa\n",
       "1           4.9          3.0           1.4          0.2  setosa\n",
       "2           4.7          3.2           1.3          0.2  setosa\n",
       "3           4.6          3.1           1.5          0.2  setosa\n",
       "4           5.0          3.6           1.4          0.2  setosa"
      ]
     },
     "execution_count": 2,
     "metadata": {},
     "output_type": "execute_result"
    }
   ],
   "source": [
    "data=pd.read_csv(\"iris.csv\")\n",
    "data.head()"
   ]
  },
  {
   "cell_type": "code",
   "execution_count": 3,
   "id": "df141219",
   "metadata": {},
   "outputs": [
    {
     "name": "stdout",
     "output_type": "stream",
     "text": [
      "     Sepal.Length  Sepal.Width  Petal.Length  Petal.Width    Species\n",
      "0             5.1          3.5           1.4          0.2     setosa\n",
      "1             4.9          3.0           1.4          0.2     setosa\n",
      "2             4.7          3.2           1.3          0.2     setosa\n",
      "3             4.6          3.1           1.5          0.2     setosa\n",
      "4             5.0          3.6           1.4          0.2     setosa\n",
      "..            ...          ...           ...          ...        ...\n",
      "145           6.7          3.0           5.2          2.3  virginica\n",
      "146           6.3          2.5           5.0          1.9  virginica\n",
      "147           6.5          3.0           5.2          2.0  virginica\n",
      "148           6.2          3.4           5.4          2.3  virginica\n",
      "149           5.9          3.0           5.1          1.8  virginica\n",
      "\n",
      "[150 rows x 5 columns]\n"
     ]
    }
   ],
   "source": [
    "df = pd.DataFrame(data)\n",
    "print(df)\n",
    "class_labels = df['Species']"
   ]
  },
  {
   "cell_type": "code",
   "execution_count": 4,
   "id": "aaeb02cc",
   "metadata": {},
   "outputs": [
    {
     "name": "stdout",
     "output_type": "stream",
     "text": [
      "150\n"
     ]
    }
   ],
   "source": [
    "n=len(class_labels)\n",
    "class_labels=pd.array(class_labels)\n",
    "print(n)"
   ]
  },
  {
   "cell_type": "code",
   "execution_count": 5,
   "id": "9a31dc7e",
   "metadata": {},
   "outputs": [
    {
     "name": "stdout",
     "output_type": "stream",
     "text": [
      "{'setosa': 0.3333333333333333, 'versicolor': 0.3333333333333333, 'virginica': 0.3333333333333333}\n"
     ]
    }
   ],
   "source": [
    "prob_o = {}\n",
    "value_counts_deci = df['Species'].value_counts()\n",
    "for value, count in value_counts_deci.items():\n",
    "      prob_o[value]=count/n\n",
    "print(prob_o)\n",
    "#prob_o[\"Yes\"]"
   ]
  },
  {
   "cell_type": "code",
   "execution_count": 6,
   "id": "2493f355",
   "metadata": {},
   "outputs": [],
   "source": [
    "from scipy.stats import norm"
   ]
  },
  {
   "cell_type": "code",
   "execution_count": 7,
   "id": "61db4484",
   "metadata": {},
   "outputs": [
    {
     "name": "stdout",
     "output_type": "stream",
     "text": [
      "Probabilities: {'Sepal.Length': {'setosa': {'mean': 5.006, 'std': 0.35248968721345136, 'probability': 1.1167802274371327e-08}, 'versicolor': {'mean': 5.936, 'std': 0.5161711470638634, 'probability': 5.829109985539863e-17}, 'virginica': {'mean': 6.587999999999998, 'std': 0.6358795932744322, 'probability': 1.7240271294189164e-21}}, 'Sepal.Width': {'setosa': {'mean': 3.428, 'std': 0.3790643690962887, 'probability': 2.948765831280049e-10}, 'versicolor': {'mean': 2.7700000000000005, 'std': 0.3137983233784114, 'probability': 3.739017890139295e-06}, 'virginica': {'mean': 2.974, 'std': 0.32249663817263746, 'probability': 9.528595635319971e-07}}, 'Petal.Length': {'setosa': {'mean': 1.4620000000000002, 'std': 0.17366399648018407, 'probability': 26290505.075599756}, 'versicolor': {'mean': 4.26, 'std': 0.46991097723995795, 'probability': 6.375422427486542e-15}, 'virginica': {'mean': 5.5520000000000005, 'std': 0.5518946956639834, 'probability': 2.053418561167569e-18}}, 'Petal.Width': {'setosa': {'mean': 0.24599999999999997, 'std': 0.10538558938004565, 'probability': 1.845980244921337e+18}, 'versicolor': {'mean': 1.3259999999999998, 'std': 0.19775268000454405, 'probability': 39734.66806679331}, 'virginica': {'mean': 2.0260000000000002, 'std': 0.2746500556366674, 'probability': 0.0029261994054380043}}}\n"
     ]
    }
   ],
   "source": [
    "columns = [col for col in df.columns if col != 'Species']\n",
    "probabilities = {}\n",
    "for column in columns:\n",
    "    prob = {}\n",
    "    for decision in df['Species']:\n",
    "        decision_data = df[df['Species'] == decision][column]\n",
    "        mean = decision_data.mean()\n",
    "        std = decision_data.std()\n",
    "        # Calculate probability using normal distribution formula\n",
    "        prob[decision] = {\n",
    "            'mean': mean,\n",
    "            'std': std,\n",
    "            'probability': norm.pdf(decision_data, loc=mean, scale=std).prod()  # Probability for all data points\n",
    "        }\n",
    "    probabilities[column] = prob\n",
    "\n",
    "print(\"Probabilities:\", probabilities)"
   ]
  },
  {
   "cell_type": "code",
   "execution_count": 8,
   "id": "ba46fa0d",
   "metadata": {},
   "outputs": [],
   "source": [
    "def predict(instance, probabilities):\n",
    "    # Initialize probabilities with 1\n",
    "    probs = {'setosa': 1, 'versicolor': 1, 'virginica': 1}  \n",
    "    for column, value in instance.items():\n",
    "        for decision in probs.keys():\n",
    "            mean = probabilities[column][decision]['mean']\n",
    "            std = probabilities[column][decision]['std']\n",
    "            # Calculate the probability using normal distribution PDF\n",
    "            prob = norm.pdf(value, loc=mean, scale=std)\n",
    "            # Multiply the existing probability with the new probability\n",
    "            probs[decision] *= prob\n",
    "    # Return the class with the maximum probability\n",
    "    return max(probs, key=probs.get)\n"
   ]
  },
  {
   "cell_type": "code",
   "execution_count": 9,
   "id": "551ef0ca",
   "metadata": {},
   "outputs": [
    {
     "name": "stdout",
     "output_type": "stream",
     "text": [
      "['setosa', 'setosa', 'setosa', 'setosa', 'setosa', 'setosa', 'setosa', 'setosa', 'setosa', 'setosa', 'setosa', 'setosa', 'setosa', 'setosa', 'setosa', 'setosa', 'setosa', 'setosa', 'setosa', 'setosa', 'setosa', 'setosa', 'setosa', 'setosa', 'setosa', 'setosa', 'setosa', 'setosa', 'setosa', 'setosa', 'setosa', 'setosa', 'setosa', 'setosa', 'setosa', 'setosa', 'setosa', 'setosa', 'setosa', 'setosa', 'setosa', 'setosa', 'setosa', 'setosa', 'setosa', 'setosa', 'setosa', 'setosa', 'setosa', 'setosa', 'versicolor', 'versicolor', 'virginica', 'versicolor', 'versicolor', 'versicolor', 'versicolor', 'versicolor', 'versicolor', 'versicolor', 'versicolor', 'versicolor', 'versicolor', 'versicolor', 'versicolor', 'versicolor', 'versicolor', 'versicolor', 'versicolor', 'versicolor', 'virginica', 'versicolor', 'versicolor', 'versicolor', 'versicolor', 'versicolor', 'versicolor', 'virginica', 'versicolor', 'versicolor', 'versicolor', 'versicolor', 'versicolor', 'versicolor', 'versicolor', 'versicolor', 'versicolor', 'versicolor', 'versicolor', 'versicolor', 'versicolor', 'versicolor', 'versicolor', 'versicolor', 'versicolor', 'versicolor', 'versicolor', 'versicolor', 'versicolor', 'versicolor', 'virginica', 'virginica', 'virginica', 'virginica', 'virginica', 'virginica', 'versicolor', 'virginica', 'virginica', 'virginica', 'virginica', 'virginica', 'virginica', 'virginica', 'virginica', 'virginica', 'virginica', 'virginica', 'virginica', 'versicolor', 'virginica', 'virginica', 'virginica', 'virginica', 'virginica', 'virginica', 'virginica', 'virginica', 'virginica', 'virginica', 'virginica', 'virginica', 'virginica', 'versicolor', 'virginica', 'virginica', 'virginica', 'virginica', 'virginica', 'virginica', 'virginica', 'virginica', 'virginica', 'virginica', 'virginica', 'virginica', 'virginica', 'virginica', 'virginica', 'virginica']\n"
     ]
    }
   ],
   "source": [
    "predictions = [predict(row.drop('Species'),probabilities)for index,row in df.iterrows()]\n",
    "print(predictions)"
   ]
  },
  {
   "cell_type": "code",
   "execution_count": 10,
   "id": "b03d5cff",
   "metadata": {},
   "outputs": [
    {
     "name": "stdout",
     "output_type": "stream",
     "text": [
      "Accuracy: 0.96\n",
      "Error: 0.040000000000000036\n"
     ]
    }
   ],
   "source": [
    "def evaluate(predictions, actual):\n",
    "    correct_predictions=sum(1 for pred,act in zip(predictions,actual) if pred == act)\n",
    "    accuracy=correct_predictions/len(actual)\n",
    "    error=1-accuracy\n",
    "    return accuracy,error\n",
    "accuracy,error=evaluate(predictions,df['Species'])\n",
    "print(\"Accuracy:\",accuracy)\n",
    "print(\"Error:\",error)"
   ]
  },
  {
   "cell_type": "code",
   "execution_count": 11,
   "id": "f37144a2",
   "metadata": {},
   "outputs": [
    {
     "name": "stdout",
     "output_type": "stream",
     "text": [
      "\n",
      "Confusion Matrix:\n",
      "Species     setosa  versicolor  virginica\n",
      "Predicted                                \n",
      "setosa          50           0          0\n",
      "versicolor       0          47          3\n",
      "virginica        0           3         47\n"
     ]
    }
   ],
   "source": [
    "confusion_matrix=pd.crosstab(pd.Series(predictions,name='Predicted'), df['Species'])\n",
    "print(\"\\nConfusion Matrix:\")\n",
    "print(confusion_matrix)"
   ]
  }
 ],
 "metadata": {
  "kernelspec": {
   "display_name": "Python 3 (ipykernel)",
   "language": "python",
   "name": "python3"
  },
  "language_info": {
   "codemirror_mode": {
    "name": "ipython",
    "version": 3
   },
   "file_extension": ".py",
   "mimetype": "text/x-python",
   "name": "python",
   "nbconvert_exporter": "python",
   "pygments_lexer": "ipython3",
   "version": "3.7.5"
  }
 },
 "nbformat": 4,
 "nbformat_minor": 5
}
