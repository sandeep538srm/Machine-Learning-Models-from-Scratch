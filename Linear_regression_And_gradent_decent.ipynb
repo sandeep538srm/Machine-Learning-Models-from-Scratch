{
 "cells": [
  {
   "cell_type": "code",
   "execution_count": 1,
   "id": "4eab69b0",
   "metadata": {},
   "outputs": [],
   "source": [
    "x = [0, 1, 2, 3, 4, 5, 6, 7, 8, 9]\n",
    "y = [1, 3, 2, 5, 7, 8, 8, 9, 10, 12]\n",
    "n=10"
   ]
  },
  {
   "cell_type": "code",
   "execution_count": 2,
   "id": "8f831a31",
   "metadata": {},
   "outputs": [],
   "source": [
    "import numpy as np\n",
    "import pandas as pd\n",
    "y=np.array(y)\n",
    "x=np.array(x)"
   ]
  },
  {
   "cell_type": "code",
   "execution_count": 4,
   "id": "af7c153f",
   "metadata": {},
   "outputs": [],
   "source": [
    "x_s=np.sum(x)\n",
    "y_s=np.sum(y)\n",
    "x_2_s=np.sum(x**2)\n",
    "x_y_s=np.sum(x*y)"
   ]
  },
  {
   "cell_type": "code",
   "execution_count": 5,
   "id": "5b66db87",
   "metadata": {},
   "outputs": [
    {
     "name": "stdout",
     "output_type": "stream",
     "text": [
      "Σx= 45\n",
      "Σx^2= 285\n",
      "Σy= 65\n",
      "Σxy= 389\n"
     ]
    }
   ],
   "source": [
    "print(\"Σx=\", x_s)\n",
    "print(\"Σx^2=\", x_2_s)\n",
    "print(\"Σy=\", y_s)\n",
    "print(\"Σxy=\",x_y_s)"
   ]
  },
  {
   "cell_type": "code",
   "execution_count": 6,
   "id": "df739808",
   "metadata": {},
   "outputs": [],
   "source": [
    "A=np.array([[n,x_s],[x_s,x_2_s]])"
   ]
  },
  {
   "cell_type": "code",
   "execution_count": 7,
   "id": "74add2d0",
   "metadata": {},
   "outputs": [
    {
     "name": "stdout",
     "output_type": "stream",
     "text": [
      "[[ 10  45]\n",
      " [ 45 285]]\n"
     ]
    }
   ],
   "source": [
    "print(A)"
   ]
  },
  {
   "cell_type": "code",
   "execution_count": 8,
   "id": "d6d9729a",
   "metadata": {},
   "outputs": [],
   "source": [
    "B=np.array([[y_s],[x_y_s]])"
   ]
  },
  {
   "cell_type": "code",
   "execution_count": 9,
   "id": "8555ad0b",
   "metadata": {},
   "outputs": [
    {
     "name": "stdout",
     "output_type": "stream",
     "text": [
      "[[ 65]\n",
      " [389]]\n"
     ]
    }
   ],
   "source": [
    "print(B)"
   ]
  },
  {
   "cell_type": "code",
   "execution_count": 24,
   "id": "395e31a0",
   "metadata": {},
   "outputs": [
    {
     "name": "stdout",
     "output_type": "stream",
     "text": [
      "[[1.23636364]\n",
      " [1.16969697]]\n"
     ]
    }
   ],
   "source": [
    "#AX=B\n",
    "#X=A^-1xB\n",
    "A_inv = np.linalg.inv(A)\n",
    "#X=np.round(np.dot(A_inv,B),2).astype(float)\n",
    "X=np.dot(A_inv,B)\n",
    "print(X)"
   ]
  },
  {
   "cell_type": "code",
   "execution_count": 40,
   "id": "cbe37978",
   "metadata": {},
   "outputs": [
    {
     "name": "stdout",
     "output_type": "stream",
     "text": [
      "[[ 65.]\n",
      " [389.]]\n",
      "(2, 1)\n"
     ]
    }
   ],
   "source": [
    "print(np.dot(A,X))\n",
    "print(X.shape)"
   ]
  },
  {
   "cell_type": "code",
   "execution_count": 47,
   "id": "9584c1c8",
   "metadata": {},
   "outputs": [],
   "source": [
    "def  y_com(x):\n",
    "    return (1.16969697*(x)+1.23636364)"
   ]
  },
  {
   "cell_type": "code",
   "execution_count": 48,
   "id": "e85d13ee",
   "metadata": {},
   "outputs": [
    {
     "name": "stdout",
     "output_type": "stream",
     "text": [
      "SSE= 5.624242424242421\n"
     ]
    }
   ],
   "source": [
    "sse=0\n",
    "for i in range(n):\n",
    "    sse=sse+((y[i]-y_com(x[i]))**2)\n",
    "print(\"SSE=\",sse)    "
   ]
  },
  {
   "cell_type": "code",
   "execution_count": 49,
   "id": "ceceeb0d",
   "metadata": {},
   "outputs": [
    {
     "name": "stdout",
     "output_type": "stream",
     "text": [
      "y_mean = 6.5\n",
      "125.04251606142331\n"
     ]
    }
   ],
   "source": [
    "y_m=(y_s)/10\n",
    "print(\"y_mean =\",y_m)\n",
    "ssr=0\n",
    "for i in range(n):\n",
    "    ssr=ssr+((y_com(x[i]-y_m)**2))\n",
    "print(ssr)    "
   ]
  },
  {
   "cell_type": "code",
   "execution_count": 50,
   "id": "e1c82dbf",
   "metadata": {},
   "outputs": [
    {
     "name": "stdout",
     "output_type": "stream",
     "text": [
      "R_2= 0.95695735863181\n"
     ]
    }
   ],
   "source": [
    "sst=ssr+sse\n",
    "R_2=ssr/sst\n",
    "print(\"R_2=\",R_2)"
   ]
  },
  {
   "cell_type": "markdown",
   "id": "25d6b36a",
   "metadata": {},
   "source": [
    "# Gradent decent"
   ]
  },
  {
   "cell_type": "code",
   "execution_count": 67,
   "id": "99f690a0",
   "metadata": {},
   "outputs": [
    {
     "name": "stdout",
     "output_type": "stream",
     "text": [
      "0.056752011134779706 0.33730646992700997\n"
     ]
    }
   ],
   "source": [
    "ao=0\n",
    "a1=0\n",
    "l=0.00001\n",
    "x = np.array([0, 1, 2, 3, 4, 5, 6, 7, 8, 9])\n",
    "y = np.array([1, 3, 2, 5, 7, 8, 8, 9, 10, 12])\n",
    "n=10\n",
    "for i in range(1000):\n",
    "      y_c= ao+(a1*x)\n",
    "      ao=ao-(l*((1/n)*np.sum(y_c-y)))\n",
    "      a1=a1-(l*((1/n)*np.sum((y_c-y)*x)))\n",
    "      error = np.sum((y-y_c)**2)/n\n",
    "      if error < 1e-6:\n",
    "        break\n",
    "print(ao,a1)        "
   ]
  },
  {
   "cell_type": "code",
   "execution_count": 73,
   "id": "66980b4e",
   "metadata": {},
   "outputs": [
    {
     "name": "stdout",
     "output_type": "stream",
     "text": [
      "1.2363636363630979 1.1696969696970558\n"
     ]
    }
   ],
   "source": [
    "import numpy as np\n",
    "\n",
    "ao = 0\n",
    "a1 = 0\n",
    "l = 0.01\n",
    "x = np.array([0, 1, 2, 3, 4, 5, 6, 7, 8, 9])\n",
    "y = np.array([1, 3, 2, 5, 7, 8, 8, 9, 10, 12])\n",
    "n = 10\n",
    "for i in range(10000):\n",
    "    y_c=ao+(a1*x)\n",
    "    ao=ao-(l / n)*np.sum(y_c-y)\n",
    "    a1=a1-(l/n)*np.sum((y_c-y)*x)\n",
    "    error=np.sum((y-y_c)** 2)/n\n",
    "    if error<1e-6:\n",
    "        break\n",
    "print(ao,a1)"
   ]
  },
  {
   "cell_type": "code",
   "execution_count": 75,
   "id": "ab109acb",
   "metadata": {},
   "outputs": [
    {
     "name": "stdout",
     "output_type": "stream",
     "text": [
      "[ 1.23636364  2.40606061  3.57575758  4.74545455  5.91515152  7.08484848\n",
      "  8.25454545  9.42424242 10.59393939 11.76363636]\n"
     ]
    }
   ],
   "source": [
    "print(ao + (a1 * x))"
   ]
  }
 ],
 "metadata": {
  "kernelspec": {
   "display_name": "Python 3 (ipykernel)",
   "language": "python",
   "name": "python3"
  },
  "language_info": {
   "codemirror_mode": {
    "name": "ipython",
    "version": 3
   },
   "file_extension": ".py",
   "mimetype": "text/x-python",
   "name": "python",
   "nbconvert_exporter": "python",
   "pygments_lexer": "ipython3",
   "version": "3.7.5"
  }
 },
 "nbformat": 4,
 "nbformat_minor": 5
}
