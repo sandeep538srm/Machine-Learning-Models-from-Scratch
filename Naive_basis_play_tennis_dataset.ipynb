{
 "cells": [
  {
   "cell_type": "markdown",
   "id": "0d985bdf",
   "metadata": {},
   "source": [
    "# AP21110011538 YARAM SANDEEP REDDY"
   ]
  },
  {
   "cell_type": "markdown",
   "id": "0776a977",
   "metadata": {},
   "source": [
    "# Question 1"
   ]
  },
  {
   "cell_type": "code",
   "execution_count": 57,
   "id": "271dc094",
   "metadata": {},
   "outputs": [],
   "source": [
    "import numpy as np\n",
    "import pandas as pd"
   ]
  },
  {
   "cell_type": "code",
   "execution_count": 58,
   "id": "ff7c3350",
   "metadata": {},
   "outputs": [],
   "source": [
    "data = {'Outlook': ['Sunny', 'Sunny', 'Overcast', 'Rain', 'Rain', 'Rain', 'Overcast', 'Sunny', 'Sunny', 'Rain', 'Sunny', 'Overcast', 'Overcast', 'Rain'],\n",
    "    'Temp': ['Hot', 'Hot', 'Hot', 'Mild', 'Cool', 'Cool', 'Cool', 'Mild', 'Cool', 'Mild', 'Mild', 'Mild', 'Hot', 'Mild'],\n",
    "    'Humidity': ['High', 'High', 'High', 'High', 'Normal', 'Normal', 'Normal', 'High', 'Normal', 'Normal', 'Normal', 'High', 'Normal', 'High'],\n",
    "    'Wind': ['Weak','Strong','Weak','Weak','Weak','Strong','Strong','Weak','Weak','Weak','Strong','Strong','Weak','Strong'],\n",
    "    'Decision': ['No','No','Yes', 'Yes','Yes','No','Yes','No','Yes','Yes','Yes','Yes','Yes','No']}"
   ]
  },
  {
   "cell_type": "code",
   "execution_count": 59,
   "id": "df141219",
   "metadata": {},
   "outputs": [
    {
     "name": "stdout",
     "output_type": "stream",
     "text": [
      "     Outlook  Temp Humidity    Wind Decision\n",
      "0      Sunny   Hot     High    Weak       No\n",
      "1      Sunny   Hot     High  Strong       No\n",
      "2   Overcast   Hot     High    Weak      Yes\n",
      "3       Rain  Mild     High    Weak      Yes\n",
      "4       Rain  Cool   Normal    Weak      Yes\n",
      "5       Rain  Cool   Normal  Strong       No\n",
      "6   Overcast  Cool   Normal  Strong      Yes\n",
      "7      Sunny  Mild     High    Weak       No\n",
      "8      Sunny  Cool   Normal    Weak      Yes\n",
      "9       Rain  Mild   Normal    Weak      Yes\n",
      "10     Sunny  Mild   Normal  Strong      Yes\n",
      "11  Overcast  Mild     High  Strong      Yes\n",
      "12  Overcast   Hot   Normal    Weak      Yes\n",
      "13      Rain  Mild     High  Strong       No\n"
     ]
    }
   ],
   "source": [
    "df = pd.DataFrame(data)\n",
    "print(df)\n",
    "class_labels = df['Decision']"
   ]
  },
  {
   "cell_type": "code",
   "execution_count": 60,
   "id": "aaeb02cc",
   "metadata": {},
   "outputs": [
    {
     "name": "stdout",
     "output_type": "stream",
     "text": [
      "14\n"
     ]
    }
   ],
   "source": [
    "n=len(class_labels)\n",
    "class_labels=pd.array(class_labels)\n",
    "print(n)"
   ]
  },
  {
   "cell_type": "code",
   "execution_count": 61,
   "id": "9a31dc7e",
   "metadata": {},
   "outputs": [
    {
     "name": "stdout",
     "output_type": "stream",
     "text": [
      "{'Yes': 0.6428571428571429, 'No': 0.35714285714285715}\n"
     ]
    }
   ],
   "source": [
    "prob_o = {}\n",
    "value_counts_deci = df['Decision'].value_counts()\n",
    "for value, count in value_counts_deci.items():\n",
    "      prob_o[value]=count/n\n",
    "print(prob_o)\n",
    "#prob_o[\"Yes\"]"
   ]
  },
  {
   "cell_type": "code",
   "execution_count": 62,
   "id": "61db4484",
   "metadata": {},
   "outputs": [
    {
     "name": "stdout",
     "output_type": "stream",
     "text": [
      "('Overcast', 'Yes') 4\n",
      "('Rain', 'No') 2\n",
      "('Rain', 'Yes') 3\n",
      "('Sunny', 'No') 3\n",
      "('Sunny', 'Yes') 2\n",
      "('Cool', 'No') 1\n",
      "('Cool', 'Yes') 3\n",
      "('Hot', 'No') 2\n",
      "('Hot', 'Yes') 2\n",
      "('Mild', 'No') 2\n",
      "('Mild', 'Yes') 4\n",
      "('High', 'No') 4\n",
      "('High', 'Yes') 3\n",
      "('Normal', 'No') 1\n",
      "('Normal', 'Yes') 6\n",
      "('Strong', 'No') 3\n",
      "('Strong', 'Yes') 3\n",
      "('Weak', 'No') 2\n",
      "('Weak', 'Yes') 6\n",
      "Probabilities: {'Outlook': {('Overcast', 'Yes'): 0.4444444444444444, ('Rain', 'No'): 0.4, ('Rain', 'Yes'): 0.3333333333333333, ('Sunny', 'No'): 0.6, ('Sunny', 'Yes'): 0.2222222222222222}, 'Temp': {('Cool', 'No'): 0.2, ('Cool', 'Yes'): 0.3333333333333333, ('Hot', 'No'): 0.4, ('Hot', 'Yes'): 0.2222222222222222, ('Mild', 'No'): 0.4, ('Mild', 'Yes'): 0.4444444444444444}, 'Humidity': {('High', 'No'): 0.8, ('High', 'Yes'): 0.3333333333333333, ('Normal', 'No'): 0.2, ('Normal', 'Yes'): 0.6666666666666666}, 'Wind': {('Strong', 'No'): 0.6, ('Strong', 'Yes'): 0.3333333333333333, ('Weak', 'No'): 0.4, ('Weak', 'Yes'): 0.6666666666666666}}\n"
     ]
    }
   ],
   "source": [
    "columns = [col for col in df.columns if col!='Decision']\n",
    "probabilities = {}\n",
    "for column in columns:\n",
    "    value_counts=df.groupby([column,'Decision']).size().reset_index(name='Count')\n",
    "    class_counts=df['Decision'].value_counts()\n",
    "    prob={}\n",
    "    for index,row in value_counts.iterrows():\n",
    "        value=row[column]\n",
    "        decision=row['Decision']\n",
    "        prob[value,decision]=row['Count']/class_counts[decision]\n",
    "        print((value,decision),row['Count'])\n",
    "    probabilities[column]=prob\n",
    "print(\"Probabilities:\",probabilities)"
   ]
  },
  {
   "cell_type": "code",
   "execution_count": 63,
   "id": "ba46fa0d",
   "metadata": {},
   "outputs": [],
   "source": [
    "def predict(instance, probabilities):\n",
    "    probs={'Yes':prob_o[\"Yes\"],'No':prob_o[\"No\"]}\n",
    "    for column, value in instance.items():\n",
    "        for decision in probs.keys():\n",
    "            probs[decision]*=probabilities[column].get((value,decision),0)\n",
    "    return max(probs,key=probs.get)"
   ]
  },
  {
   "cell_type": "code",
   "execution_count": 64,
   "id": "551ef0ca",
   "metadata": {},
   "outputs": [
    {
     "name": "stdout",
     "output_type": "stream",
     "text": [
      "['No', 'No', 'Yes', 'Yes', 'Yes', 'Yes', 'Yes', 'No', 'Yes', 'Yes', 'Yes', 'Yes', 'Yes', 'No']\n"
     ]
    }
   ],
   "source": [
    "predictions = [predict(row.drop('Decision'),probabilities)for index,row in df.iterrows()]\n",
    "print(predictions)"
   ]
  },
  {
   "cell_type": "code",
   "execution_count": 65,
   "id": "b03d5cff",
   "metadata": {},
   "outputs": [
    {
     "name": "stdout",
     "output_type": "stream",
     "text": [
      "Accuracy: 0.9285714285714286\n",
      "Error: 0.0714285714285714\n"
     ]
    }
   ],
   "source": [
    "def evaluate(predictions, actual):\n",
    "    correct_predictions=sum(1 for pred,act in zip(predictions,actual) if pred == act)\n",
    "    accuracy=correct_predictions/len(actual)\n",
    "    error=1-accuracy\n",
    "    return accuracy,error\n",
    "accuracy,error=evaluate(predictions,df['Decision'])\n",
    "print(\"Accuracy:\",accuracy)\n",
    "print(\"Error:\",error)"
   ]
  }
 ],
 "metadata": {
  "kernelspec": {
   "display_name": "Python 3 (ipykernel)",
   "language": "python",
   "name": "python3"
  },
  "language_info": {
   "codemirror_mode": {
    "name": "ipython",
    "version": 3
   },
   "file_extension": ".py",
   "mimetype": "text/x-python",
   "name": "python",
   "nbconvert_exporter": "python",
   "pygments_lexer": "ipython3",
   "version": "3.7.5"
  }
 },
 "nbformat": 4,
 "nbformat_minor": 5
}
